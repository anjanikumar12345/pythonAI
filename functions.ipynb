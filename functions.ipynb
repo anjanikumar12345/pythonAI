{
 "cells": [
  {
   "cell_type": "markdown",
   "id": "650a1034",
   "metadata": {},
   "source": [
    " A Function is a block of reuseable code that performs a specific task"
   ]
  },
  {
   "cell_type": "markdown",
   "id": "b5fb1fe9",
   "metadata": {},
   "source": [
    "CREATING FUNCTION"
   ]
  },
  {
   "cell_type": "code",
   "execution_count": 4,
   "id": "4da37bc5",
   "metadata": {},
   "outputs": [],
   "source": [
    "def welcome():\n",
    "    print(\"Hi How are you !!!\")"
   ]
  },
  {
   "cell_type": "markdown",
   "id": "ecf06c31",
   "metadata": {},
   "source": [
    "CALLING A FUNCTION"
   ]
  },
  {
   "cell_type": "code",
   "execution_count": 6,
   "id": "ea38396f",
   "metadata": {},
   "outputs": [
    {
     "name": "stdout",
     "output_type": "stream",
     "text": [
      "Hi How are You !!!\n"
     ]
    }
   ],
   "source": [
    "def welcome():\n",
    "    print(\"Hi How are You !!!\")\n",
    "welcome()"
   ]
  },
  {
   "cell_type": "code",
   "execution_count": null,
   "id": "8b5a4995",
   "metadata": {},
   "outputs": [
    {
     "name": "stdout",
     "output_type": "stream",
     "text": [
      "TRUE\n",
      "0\n",
      "1\n",
      "2\n"
     ]
    }
   ],
   "source": [
    "def code():\n",
    "    \n",
    "    \n",
    "    if 20>2:\n",
    "        print(\"TRUE\")\n",
    "    else:\n",
    "        print(\"FALSE\")\n",
    "        \n",
    "        \n",
    "        \n",
    "    for i in range(0,3):\n",
    "        print(i)\n",
    "        \n",
    "        \n",
    "    \n",
    "\n",
    "        \n",
    "code()\n",
    "        "
   ]
  },
  {
   "cell_type": "code",
   "execution_count": null,
   "id": "5936a337",
   "metadata": {},
   "outputs": [],
   "source": []
  }
 ],
 "metadata": {
  "kernelspec": {
   "display_name": "Python 3",
   "language": "python",
   "name": "python3"
  },
  "language_info": {
   "codemirror_mode": {
    "name": "ipython",
    "version": 3
   },
   "file_extension": ".py",
   "mimetype": "text/x-python",
   "name": "python",
   "nbconvert_exporter": "python",
   "pygments_lexer": "ipython3",
   "version": "3.11.0"
  }
 },
 "nbformat": 4,
 "nbformat_minor": 5
}
