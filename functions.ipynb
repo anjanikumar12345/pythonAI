{
 "cells": [
  {
   "cell_type": "markdown",
   "id": "650a1034",
   "metadata": {},
   "source": [
    " A Function is a block of reuseable code that performs a specific task"
   ]
  },
  {
   "cell_type": "code",
   "execution_count": 31,
   "id": "dc93f66c",
   "metadata": {},
   "outputs": [
    {
     "name": "stdout",
     "output_type": "stream",
     "text": [
      "NO !!\n",
      "YES !!\n",
      "0\n",
      "1\n",
      "2\n"
     ]
    }
   ],
   "source": [
    "def welcome():\n",
    "    a=1\n",
    "    b=2\n",
    "    if a>b:          \n",
    "        print(\"YES !!\")\n",
    "    else:\n",
    "        print(\"NO !!\")\n",
    "    \n",
    "    if a<b:\n",
    "        print(\"YES !!\")\n",
    "    else:\n",
    "        print(\"No !!\")\n",
    "\n",
    "    for i in range(0,3):\n",
    "        print(i)\n",
    "\n",
    "welcome()"
   ]
  }
 ],
 "metadata": {
  "kernelspec": {
   "display_name": "Python 3",
   "language": "python",
   "name": "python3"
  },
  "language_info": {
   "codemirror_mode": {
    "name": "ipython",
    "version": 3
   },
   "file_extension": ".py",
   "mimetype": "text/x-python",
   "name": "python",
   "nbconvert_exporter": "python",
   "pygments_lexer": "ipython3",
   "version": "3.11.0"
  }
 },
 "nbformat": 4,
 "nbformat_minor": 5
}
